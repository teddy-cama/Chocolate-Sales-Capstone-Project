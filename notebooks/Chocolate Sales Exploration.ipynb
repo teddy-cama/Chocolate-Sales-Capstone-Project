{
 "cells": [
  {
   "cell_type": "markdown",
   "id": "c1f42698-6099-44a6-83d9-c16d9e4e5d1f",
   "metadata": {},
   "source": [
    "**Phase 1: Basic Exploration and Cleaning**\n",
    "\n",
    "1.  **\"Convert the 'Date' column to datetime objects. This will allow us to perform time-based analysis. Then tell me the earliest and latest date in the dataset.\"**\n",
    "    * Use `pd.to_datetime()` to convert the column.\n",
    "    * Use `.min()` and `.max()` on the datetime column.\n",
    "\n",
    "2.  **\"Check for unique values in the 'Country', 'Product', and 'Sales Person' columns. How many unique values are there in each column?\"**\n",
    "    * Use `.nunique()` to get the count.\n",
    "    * Use `.unique()` to see the unique values themselves if needed.\n",
    "\n",
    "3.  **\"Analyze the 'Amount' and 'Boxes Shipped' columns. Calculate the descriptive statistics (mean, median, standard deviation, min, max, etc.). Are there any outliers?\"**\n",
    "    * Use `.describe()` to get the statistics.\n",
    "    * Use histograms or box plots to visualize the distributions and identify outliers.\n",
    "\n",
    "4.  **\"Check for any inconsistencies in the 'Currency' column. Are all transactions in the same currency? If not, investigate and handle the differences if needed. If there are multiple currencies, inform me of the conversion rates to a single currency, for example, USD.\"**\n",
    "    * Use `.unique()` and `.value_counts()` to understand the currencies.\n",
    "\n",
    "5.  **\"Create a new column called 'Amount per Box' by dividing the 'Amount' column by the 'Boxes Shipped' column. Then analyze the distribution of this new column.\"**\n",
    "    * This helps understand the price per box."
   ]
  },
  {
   "cell_type": "code",
   "execution_count": 6,
   "id": "4d5a17e4-ac35-45fb-bbb8-ecb2954880fd",
   "metadata": {},
   "outputs": [],
   "source": [
    "import pandas as pd"
   ]
  },
  {
   "cell_type": "code",
   "execution_count": 4,
   "id": "ed738e73-389a-4c18-8c73-f9ebc8542ba2",
   "metadata": {},
   "outputs": [
    {
     "data": {
      "text/html": [
       "<div>\n",
       "<style scoped>\n",
       "    .dataframe tbody tr th:only-of-type {\n",
       "        vertical-align: middle;\n",
       "    }\n",
       "\n",
       "    .dataframe tbody tr th {\n",
       "        vertical-align: top;\n",
       "    }\n",
       "\n",
       "    .dataframe thead th {\n",
       "        text-align: right;\n",
       "    }\n",
       "</style>\n",
       "<table border=\"1\" class=\"dataframe\">\n",
       "  <thead>\n",
       "    <tr style=\"text-align: right;\">\n",
       "      <th></th>\n",
       "      <th>Sales Person</th>\n",
       "      <th>Country</th>\n",
       "      <th>Product</th>\n",
       "      <th>Date</th>\n",
       "      <th>Amount($)</th>\n",
       "      <th>Boxes Shipped</th>\n",
       "    </tr>\n",
       "  </thead>\n",
       "  <tbody>\n",
       "    <tr>\n",
       "      <th>0</th>\n",
       "      <td>Jehu Rudeforth</td>\n",
       "      <td>UK</td>\n",
       "      <td>Mint Chip Choco</td>\n",
       "      <td>04-Jan-22</td>\n",
       "      <td>5320</td>\n",
       "      <td>180</td>\n",
       "    </tr>\n",
       "    <tr>\n",
       "      <th>1</th>\n",
       "      <td>Van Tuxwell</td>\n",
       "      <td>India</td>\n",
       "      <td>85% Dark Bars</td>\n",
       "      <td>01-Aug-22</td>\n",
       "      <td>7896</td>\n",
       "      <td>94</td>\n",
       "    </tr>\n",
       "    <tr>\n",
       "      <th>2</th>\n",
       "      <td>Gigi Bohling</td>\n",
       "      <td>India</td>\n",
       "      <td>Peanut Butter Cubes</td>\n",
       "      <td>07-Jul-22</td>\n",
       "      <td>4501</td>\n",
       "      <td>91</td>\n",
       "    </tr>\n",
       "    <tr>\n",
       "      <th>3</th>\n",
       "      <td>Jan Morforth</td>\n",
       "      <td>Australia</td>\n",
       "      <td>Peanut Butter Cubes</td>\n",
       "      <td>27-Apr-22</td>\n",
       "      <td>12726</td>\n",
       "      <td>342</td>\n",
       "    </tr>\n",
       "    <tr>\n",
       "      <th>4</th>\n",
       "      <td>Jehu Rudeforth</td>\n",
       "      <td>UK</td>\n",
       "      <td>Peanut Butter Cubes</td>\n",
       "      <td>24-Feb-22</td>\n",
       "      <td>13685</td>\n",
       "      <td>184</td>\n",
       "    </tr>\n",
       "  </tbody>\n",
       "</table>\n",
       "</div>"
      ],
      "text/plain": [
       "     Sales Person    Country              Product       Date  Amount($)  \\\n",
       "0  Jehu Rudeforth         UK      Mint Chip Choco  04-Jan-22       5320   \n",
       "1     Van Tuxwell      India        85% Dark Bars  01-Aug-22       7896   \n",
       "2    Gigi Bohling      India  Peanut Butter Cubes  07-Jul-22       4501   \n",
       "3    Jan Morforth  Australia  Peanut Butter Cubes  27-Apr-22      12726   \n",
       "4  Jehu Rudeforth         UK  Peanut Butter Cubes  24-Feb-22      13685   \n",
       "\n",
       "   Boxes Shipped  \n",
       "0            180  \n",
       "1             94  \n",
       "2             91  \n",
       "3            342  \n",
       "4            184  "
      ]
     },
     "execution_count": 4,
     "metadata": {},
     "output_type": "execute_result"
    }
   ],
   "source": [
    "df = pd.read_csv('Cleaned Chocolate Sales.csv')\n",
    "df.head()"
   ]
  },
  {
   "cell_type": "markdown",
   "id": "1705e2fa-7ba4-4bd7-a4ee-eb4ea67bfc79",
   "metadata": {},
   "source": [
    "## Date Conversion"
   ]
  },
  {
   "cell_type": "code",
   "execution_count": 10,
   "id": "2e321944-4e1e-47b5-916f-a262ad6b3b2d",
   "metadata": {},
   "outputs": [
    {
     "data": {
      "text/html": [
       "<div>\n",
       "<style scoped>\n",
       "    .dataframe tbody tr th:only-of-type {\n",
       "        vertical-align: middle;\n",
       "    }\n",
       "\n",
       "    .dataframe tbody tr th {\n",
       "        vertical-align: top;\n",
       "    }\n",
       "\n",
       "    .dataframe thead th {\n",
       "        text-align: right;\n",
       "    }\n",
       "</style>\n",
       "<table border=\"1\" class=\"dataframe\">\n",
       "  <thead>\n",
       "    <tr style=\"text-align: right;\">\n",
       "      <th></th>\n",
       "      <th>Sales Person</th>\n",
       "      <th>Country</th>\n",
       "      <th>Product</th>\n",
       "      <th>Date</th>\n",
       "      <th>Amount($)</th>\n",
       "      <th>Boxes Shipped</th>\n",
       "    </tr>\n",
       "  </thead>\n",
       "  <tbody>\n",
       "    <tr>\n",
       "      <th>0</th>\n",
       "      <td>Jehu Rudeforth</td>\n",
       "      <td>UK</td>\n",
       "      <td>Mint Chip Choco</td>\n",
       "      <td>2022-01-04</td>\n",
       "      <td>5320</td>\n",
       "      <td>180</td>\n",
       "    </tr>\n",
       "    <tr>\n",
       "      <th>1</th>\n",
       "      <td>Van Tuxwell</td>\n",
       "      <td>India</td>\n",
       "      <td>85% Dark Bars</td>\n",
       "      <td>2022-08-01</td>\n",
       "      <td>7896</td>\n",
       "      <td>94</td>\n",
       "    </tr>\n",
       "    <tr>\n",
       "      <th>2</th>\n",
       "      <td>Gigi Bohling</td>\n",
       "      <td>India</td>\n",
       "      <td>Peanut Butter Cubes</td>\n",
       "      <td>2022-07-07</td>\n",
       "      <td>4501</td>\n",
       "      <td>91</td>\n",
       "    </tr>\n",
       "    <tr>\n",
       "      <th>3</th>\n",
       "      <td>Jan Morforth</td>\n",
       "      <td>Australia</td>\n",
       "      <td>Peanut Butter Cubes</td>\n",
       "      <td>2022-04-27</td>\n",
       "      <td>12726</td>\n",
       "      <td>342</td>\n",
       "    </tr>\n",
       "    <tr>\n",
       "      <th>4</th>\n",
       "      <td>Jehu Rudeforth</td>\n",
       "      <td>UK</td>\n",
       "      <td>Peanut Butter Cubes</td>\n",
       "      <td>2022-02-24</td>\n",
       "      <td>13685</td>\n",
       "      <td>184</td>\n",
       "    </tr>\n",
       "  </tbody>\n",
       "</table>\n",
       "</div>"
      ],
      "text/plain": [
       "     Sales Person    Country              Product       Date  Amount($)  \\\n",
       "0  Jehu Rudeforth         UK      Mint Chip Choco 2022-01-04       5320   \n",
       "1     Van Tuxwell      India        85% Dark Bars 2022-08-01       7896   \n",
       "2    Gigi Bohling      India  Peanut Butter Cubes 2022-07-07       4501   \n",
       "3    Jan Morforth  Australia  Peanut Butter Cubes 2022-04-27      12726   \n",
       "4  Jehu Rudeforth         UK  Peanut Butter Cubes 2022-02-24      13685   \n",
       "\n",
       "   Boxes Shipped  \n",
       "0            180  \n",
       "1             94  \n",
       "2             91  \n",
       "3            342  \n",
       "4            184  "
      ]
     },
     "execution_count": 10,
     "metadata": {},
     "output_type": "execute_result"
    }
   ],
   "source": [
    "df['Date'] = pd.to_datetime(df['Date'])\n",
    "df.head()"
   ]
  },
  {
   "cell_type": "markdown",
   "id": "71a9c3fb-e6da-47d6-aeb4-fa65b0d22c1e",
   "metadata": {},
   "source": [
    "### Ealiest Shipment Date"
   ]
  },
  {
   "cell_type": "code",
   "execution_count": 13,
   "id": "1de81c0a-e1cc-41db-9d26-3993de901e53",
   "metadata": {},
   "outputs": [
    {
     "data": {
      "text/plain": [
       "Timestamp('2022-01-03 00:00:00')"
      ]
     },
     "execution_count": 13,
     "metadata": {},
     "output_type": "execute_result"
    }
   ],
   "source": [
    "df['Date'].min()"
   ]
  },
  {
   "cell_type": "markdown",
   "id": "bc31daad-ff82-4702-9750-ebee7a3b2091",
   "metadata": {},
   "source": [
    "### Latest Shipment Date"
   ]
  },
  {
   "cell_type": "code",
   "execution_count": 14,
   "id": "799f181f-675c-4795-b7a8-ad0122ad19ef",
   "metadata": {},
   "outputs": [
    {
     "data": {
      "text/plain": [
       "Timestamp('2022-08-31 00:00:00')"
      ]
     },
     "execution_count": 14,
     "metadata": {},
     "output_type": "execute_result"
    }
   ],
   "source": [
    "df['Date'].max()"
   ]
  },
  {
   "cell_type": "markdown",
   "id": "59d7168f-c490-47d1-85b7-ac707f12b068",
   "metadata": {},
   "source": [
    "## Unique Values Check"
   ]
  },
  {
   "cell_type": "markdown",
   "id": "73e4945a-beea-4ede-a5e0-d172f2ce1f2e",
   "metadata": {},
   "source": [
    "### Number of Unique Countries and the Unique Values"
   ]
  },
  {
   "cell_type": "code",
   "execution_count": 15,
   "id": "2b9e9d6e-4238-4c00-8bbf-9a460bd53e41",
   "metadata": {},
   "outputs": [
    {
     "data": {
      "text/plain": [
       "6"
      ]
     },
     "execution_count": 15,
     "metadata": {},
     "output_type": "execute_result"
    }
   ],
   "source": [
    "df['Country'].nunique()"
   ]
  },
  {
   "cell_type": "code",
   "execution_count": 16,
   "id": "99d05e3c-d423-45b8-bd72-7274b3b4acb2",
   "metadata": {},
   "outputs": [
    {
     "data": {
      "text/plain": [
       "array(['UK', 'India', 'Australia', 'New Zealand', 'USA', 'Canada'],\n",
       "      dtype=object)"
      ]
     },
     "execution_count": 16,
     "metadata": {},
     "output_type": "execute_result"
    }
   ],
   "source": [
    "df['Country'].unique()"
   ]
  },
  {
   "cell_type": "markdown",
   "id": "ed75c5ec-52b1-4301-a7bb-d5dadc5d4853",
   "metadata": {},
   "source": [
    "### Number of Unique Products and the Unique Values"
   ]
  },
  {
   "cell_type": "code",
   "execution_count": 17,
   "id": "02e6ac7a-64fd-4ff3-a9eb-77f4ae7081ab",
   "metadata": {},
   "outputs": [
    {
     "data": {
      "text/plain": [
       "22"
      ]
     },
     "execution_count": 17,
     "metadata": {},
     "output_type": "execute_result"
    }
   ],
   "source": [
    "df['Product'].nunique()"
   ]
  },
  {
   "cell_type": "code",
   "execution_count": 18,
   "id": "fb02c8bb-b341-44e0-a4f2-d7dfd15ee96e",
   "metadata": {},
   "outputs": [
    {
     "data": {
      "text/plain": [
       "array(['Mint Chip Choco', '85% Dark Bars', 'Peanut Butter Cubes',\n",
       "       'Smooth Sliky Salty', '99% Dark & Pure', 'After Nines',\n",
       "       '50% Dark Bites', 'Orange Choco', 'Eclairs', 'Drinking Coco',\n",
       "       'Organic Choco Syrup', 'Milk Bars', 'Spicy Special Slims',\n",
       "       'Fruit & Nut Bars', 'White Choc', 'Manuka Honey Choco',\n",
       "       'Almond Choco', 'Raspberry Choco', 'Choco Coated Almonds',\n",
       "       \"Baker's Choco Chips\", 'Caramel Stuffed Bars', '70% Dark Bites'],\n",
       "      dtype=object)"
      ]
     },
     "execution_count": 18,
     "metadata": {},
     "output_type": "execute_result"
    }
   ],
   "source": [
    "df['Product'].unique()"
   ]
  },
  {
   "cell_type": "markdown",
   "id": "60ce578f-23d3-445d-bc81-fe1f2bee94b7",
   "metadata": {},
   "source": [
    "### Number of Unique Sales Persons and the Unique Values"
   ]
  },
  {
   "cell_type": "code",
   "execution_count": 19,
   "id": "fbadf17e-9071-4cf0-8008-dd554309a74a",
   "metadata": {},
   "outputs": [
    {
     "data": {
      "text/plain": [
       "25"
      ]
     },
     "execution_count": 19,
     "metadata": {},
     "output_type": "execute_result"
    }
   ],
   "source": [
    "df['Sales Person'].nunique()"
   ]
  },
  {
   "cell_type": "code",
   "execution_count": 20,
   "id": "6758bd57-6cac-4afb-bbd9-46cfa28fc84e",
   "metadata": {},
   "outputs": [
    {
     "data": {
      "text/plain": [
       "array(['Jehu Rudeforth', 'Van Tuxwell', 'Gigi Bohling', 'Jan Morforth',\n",
       "       'Oby Sorrel', 'Gunar Cockshoot', 'Brien Boise',\n",
       "       'Rafaelita Blaksland', 'Barr Faughny', 'Mallorie Waber',\n",
       "       'Karlen McCaffrey', \"Marney O'Breen\", 'Beverie Moffet',\n",
       "       'Roddy Speechley', 'Curtice Advani', 'Husein Augar', 'Kaine Padly',\n",
       "       'Dennison Crosswaite', \"Wilone O'Kielt\", 'Andria Kimpton',\n",
       "       'Kelci Walkden', 'Camilla Castle', 'Madelene Upcott',\n",
       "       'Dotty Strutley', 'Ches Bonnell'], dtype=object)"
      ]
     },
     "execution_count": 20,
     "metadata": {},
     "output_type": "execute_result"
    }
   ],
   "source": [
    "df['Sales Person'].unique()"
   ]
  },
  {
   "cell_type": "code",
   "execution_count": null,
   "id": "96f71ae1-dd2e-4109-8e1e-87238269a7c0",
   "metadata": {},
   "outputs": [],
   "source": []
  }
 ],
 "metadata": {
  "kernelspec": {
   "display_name": "Python 3 (ipykernel)",
   "language": "python",
   "name": "python3"
  },
  "language_info": {
   "codemirror_mode": {
    "name": "ipython",
    "version": 3
   },
   "file_extension": ".py",
   "mimetype": "text/x-python",
   "name": "python",
   "nbconvert_exporter": "python",
   "pygments_lexer": "ipython3",
   "version": "3.11.11"
  }
 },
 "nbformat": 4,
 "nbformat_minor": 5
}
